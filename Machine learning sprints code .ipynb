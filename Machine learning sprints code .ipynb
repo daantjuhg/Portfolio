{
 "cells": [
  {
   "cell_type": "markdown",
   "id": "3b5b9306",
   "metadata": {},
   "source": [
    "# Libraries\n",
    "\n",
    "Import your libraries"
   ]
  },
  {
   "cell_type": "code",
   "execution_count": 1,
   "id": "6767672b",
   "metadata": {},
   "outputs": [],
   "source": [
    "import numpy as np\n",
    "import pandas as pd\n",
    "import statistics as cal\n",
    "import matplotlib.pyplot as plt\n",
    "from sklearn.model_selection import train_test_split\n",
    "from sklearn.model_selection import GridSearchCV\n",
    "from sklearn.svm import SVC\n",
    "from sklearn.tree import DecisionTreeClassifier\n",
    "from sklearn.neighbors import KNeighborsClassifier\n",
    "from sklearn.metrics import accuracy_score, f1_score, precision_score, recall_score, classification_report, plot_confusion_matrix, confusion_matrix"
   ]
  },
  {
   "cell_type": "markdown",
   "id": "1a9e9f42",
   "metadata": {},
   "source": [
    "# Importing Data\n",
    "\n",
    "Import the CSV file with Actions, Sum and Div as a Dataframe called df. Fill the empty values of Action with 0. \n",
    "Replace NaN values with 0. Delete first 100 rows. "
   ]
  },
  {
   "cell_type": "code",
   "execution_count": 2,
   "id": "1e06fbe8",
   "metadata": {},
   "outputs": [
    {
     "name": "stderr",
     "output_type": "stream",
     "text": [
      "<ipython-input-2-e044bac9e483>:12: SettingWithCopyWarning: \n",
      "A value is trying to be set on a copy of a slice from a DataFrame\n",
      "\n",
      "See the caveats in the documentation: https://pandas.pydata.org/pandas-docs/stable/user_guide/indexing.html#returning-a-view-versus-a-copy\n",
      "  df.Action[df.Action == \"Sprinting\"] = 1\n"
     ]
    }
   ],
   "source": [
    "#load in df\n",
    "Player = 15\n",
    "Game = 2\n",
    "\n",
    "df = pd.read_csv('matrix_Player_' + str(Player) + '_game_' + str(Game) + '_Action.csv')\n",
    "\n",
    "# Fill NaN with 0\n",
    "df.replace([np.inf, -np.inf], np.nan, inplace=True)\n",
    "df = df.fillna(0)\n",
    "\n",
    "#Convert Sprinting to 1\n",
    "df.Action[df.Action == \"Sprinting\"] = 1\n",
    "\n",
    "#Delete first 99 rows, so df starts at timeLine == 1.00\n",
    "df = df.iloc[99: , :]"
   ]
  },
  {
   "cell_type": "markdown",
   "id": "9b053ddc",
   "metadata": {},
   "source": [
    "# Preparing Data\n",
    "\n",
    "Split the Dataframe in chunks van n/100 seconden. Combine to 1 dataframe. With Sum,Div and Action split into Train and Valid/Test. "
   ]
  },
  {
   "cell_type": "code",
   "execution_count": 3,
   "id": "6d499289",
   "metadata": {},
   "outputs": [],
   "source": [
    "#Convert data into chunks of a second\n",
    "n = 100 #chunk size (100 datapoints in one second)\n",
    "chunks = [df[i:i+n] for i in range(0,df.shape[0],n)]\n",
    "\n",
    "#Set chunks into dataframe\n",
    "#for chunk in chunks:\n",
    "frames = []\n",
    "for chunk in chunks:\n",
    "    P = pd.DataFrame({'Frames':[chunk['Unnamed: 0'].tolist()], 'frAcc':[max(chunk['frAcc'].tolist())], \n",
    "                      'frRoAcc':[chunk['frRoAcc'].tolist()], 'frDispl':[chunk['frDispl'].tolist()], \n",
    "                      'frRoAng':[chunk['frRoAng'].tolist()], 'frSpeed':[max(chunk['frSpeed'].tolist())], \n",
    "                      'timeLine':[max(chunk['timeLine'].tolist())], 'frameRotationalSpeedX':[chunk['frameRotationalSpeedX'].tolist()], \n",
    "                      'frameRotationalSpeedY':[chunk['frameRotationalSpeedY'].tolist()], 'frameRotationalSpeedZ':[cal.mean(chunk['frameRotationalSpeedZ'].tolist())],\n",
    "                      'wheelRotationalSpeedX':[max(chunk['wheelRotationalSpeedX'].tolist())], 'wheelRotationalSpeedY':[chunk['wheelRotationalSpeedY'].tolist()],\n",
    "                      'wheelRotationalSpeedZ':[chunk['wheelRotationalSpeedZ'].tolist()], 'frRoSpeed':[max(chunk['frRoSpeed'].tolist())],\n",
    "                      'Sum_WheelX_FrameZ':[max(chunk['Sum_WheelX_FrameZ'].tolist())], 'Div_FrameZ_WheelX':[cal.mean(chunk['Div_FrameZ_WheelX'].tolist())],\n",
    "                      'Filt_WheelX':[cal.mean(chunk['Filt_WheelX'].tolist())], 'Filt_FrameZ':[cal.mean(chunk['Filt_FrameZ'].tolist())],\n",
    "                      'Action':[max(chunk['Action'].tolist())]})\n",
    "    frames.append(P)\n",
    "\n",
    "df = pd.concat(frames,ignore_index=True)"
   ]
  },
  {
   "cell_type": "code",
   "execution_count": 4,
   "id": "7c214ee3",
   "metadata": {},
   "outputs": [],
   "source": [
    "# split chunk data into train test validate (with colum [sum and Div] as input, and action as output)\n",
    "X_train, X_test, y_train, y_test = train_test_split(df[[\n",
    "                                                        'Sum_WheelX_FrameZ',\n",
    "                                                        'Div_FrameZ_WheelX',\n",
    "                                                        'wheelRotationalSpeedX',\n",
    "                                                        'Filt_FrameZ',\n",
    "                                                        'Filt_WheelX',\n",
    "                                                       ]], \n",
    "                                                    df.Action, test_size = 0.2, random_state=42)"
   ]
  },
  {
   "cell_type": "markdown",
   "id": "3800e3f9",
   "metadata": {},
   "source": [
    "# Fitting Model\n",
    "\n",
    "Choose a classification model. Train model with Training data."
   ]
  },
  {
   "cell_type": "code",
   "execution_count": 5,
   "id": "0712a43a",
   "metadata": {
    "scrolled": true
   },
   "outputs": [
    {
     "data": {
      "text/plain": [
       "DecisionTreeClassifier(class_weight='balanced', max_depth=2, max_features=0.4,\n",
       "                       min_samples_leaf=0.04, random_state=6)"
      ]
     },
     "execution_count": 5,
     "metadata": {},
     "output_type": "execute_result"
    }
   ],
   "source": [
    "#Nearest Neighbors\n",
    "model1 = KNeighborsClassifier(n_neighbors=15)\n",
    "model1.fit(X_train,y_train)\n",
    "\n",
    "#Decision tree\n",
    "model2 = DecisionTreeClassifier(random_state = 6, max_depth = 2, min_samples_leaf = 0.04 , max_features = 0.4, class_weight='balanced')\n",
    "model2.fit(X_train,y_train)\n",
    "\n",
    "#SVC\n",
    "#model3 = SVC(kernel = 'linear', gamma= 1e-05)\n",
    "#model3.fit(X_train,y_train)"
   ]
  },
  {
   "cell_type": "markdown",
   "id": "0343e39a",
   "metadata": {},
   "source": [
    "# Gridsearch toepassen\n"
   ]
  },
  {
   "cell_type": "code",
   "execution_count": 6,
   "id": "43ab3334",
   "metadata": {},
   "outputs": [
    {
     "name": "stdout",
     "output_type": "stream",
     "text": [
      "{'class_weight': 'balanced', 'max_depth': 2, 'max_features': 0.6, 'min_samples_leaf': 0.1}\n"
     ]
    }
   ],
   "source": [
    "#tree_model_1 = KNeighborsClassifier()\n",
    "tree_model_2 = DecisionTreeClassifier(random_state=6)\n",
    "#tree_model_3 = SVC()\n",
    "# creating an array for different n_neighbours parameter\n",
    "#param_grid_model_1 = {'n_neighbors' : [ 6, 7, 8, 9, 10, 11, 12, 13, 14, 15, 16]}\n",
    "param_grid_model_2 = {'max_depth': [1, 2, 3, 4, 5, 6] , 'min_samples_leaf': [0.04, 0.06, 0.08, 0.1, 0.12], 'max_features': [0.2, 0.4, 0.6, 0.8], 'class_weight': ['balanced']} \n",
    "#param_grid_model_3 = {'kernel': ['linear', 'rbf', 'poly'], 'gamma' : [0.1, 0.3, 0.7, 1, 1.5, 2, 5, 10] , 'C' : [0.1, 0.5, 1, 5, 10, 20]}\n",
    "#knn_cv = []\n",
    "\n",
    "#for i in range(10):\n",
    "tree = GridSearchCV(tree_model_2,param_grid_model_2)\n",
    "tree = tree.fit(X_train,y_train)\n",
    "print(tree.best_params_)\n",
    "#print(tree.best_score_)\n",
    "#print(\"Test accuracy of best grid search hypers:\", tree.score(X_test, y_test))"
   ]
  },
  {
   "cell_type": "markdown",
   "id": "505a2a3f",
   "metadata": {},
   "source": [
    "# Validate/Tune Model\n",
    "\n",
    "Validate results of the model (Precision/Recall). Tune the parameters of the model to achieve better results"
   ]
  },
  {
   "cell_type": "code",
   "execution_count": 7,
   "id": "b45d9ad2",
   "metadata": {},
   "outputs": [
    {
     "data": {
      "image/png": "[encoded data removed]",
      "text/plain": [
       "<Figure size 432x288 with 2 Axes>"
      ]
     },
     "metadata": {
      "needs_background": "light"
     },
     "output_type": "display_data"
    }
   ],
   "source": [
    "#GridsearchCV Polynomials\n",
    "plot_confusion_matrix(tree, X_test, y_test)\n",
    "plt.show()"
   ]
  },
  {
   "cell_type": "markdown",
   "id": "c10466c1",
   "metadata": {},
   "source": [
    "# Export Data\n",
    "\n",
    "Export the results in CSV format. Layout = Time,Action"
   ]
  },
  {
   "cell_type": "code",
   "execution_count": 8,
   "id": "bb695bbe",
   "metadata": {},
   "outputs": [],
   "source": [
    "X_test['Action'] = tree.predict(X_test)"
   ]
  },
  {
   "cell_type": "code",
   "execution_count": 9,
   "id": "d5336c50",
   "metadata": {},
   "outputs": [
    {
     "data": {
      "text/plain": [
       "Int64Index([ 346,  736,  737, 2111, 2114, 2115, 2127, 2138, 2177, 2199,\n",
       "            ...\n",
       "            7952, 7953, 7970, 7976, 7988, 8012, 8020, 8022, 8038, 8041],\n",
       "           dtype='int64', length=237)"
      ]
     },
     "execution_count": 9,
     "metadata": {},
     "output_type": "execute_result"
    }
   ],
   "source": [
    "X_test = X_test.sort_index()\n",
    "df_test = X_test[X_test['Action']==1]\n",
    "df_test.index"
   ]
  },
  {
   "cell_type": "code",
   "execution_count": 10,
   "id": "7ef4a0db",
   "metadata": {},
   "outputs": [
    {
     "data": {
      "text/html": [
       "<div>\n",
       "<style scoped>\n",
       "    .dataframe tbody tr th:only-of-type {\n",
       "        vertical-align: middle;\n",
       "    }\n",
       "\n",
       "    .dataframe tbody tr th {\n",
       "        vertical-align: top;\n",
       "    }\n",
       "\n",
       "    .dataframe thead th {\n",
       "        text-align: right;\n",
       "    }\n",
       "</style>\n",
       "<table border=\"1\" class=\"dataframe\">\n",
       "  <thead>\n",
       "    <tr style=\"text-align: right;\">\n",
       "      <th></th>\n",
       "      <th>Time</th>\n",
       "    </tr>\n",
       "  </thead>\n",
       "  <tbody>\n",
       "    <tr>\n",
       "      <th>0</th>\n",
       "      <td>346</td>\n",
       "    </tr>\n",
       "    <tr>\n",
       "      <th>1</th>\n",
       "      <td>737</td>\n",
       "    </tr>\n",
       "    <tr>\n",
       "      <th>2</th>\n",
       "      <td>2115</td>\n",
       "    </tr>\n",
       "    <tr>\n",
       "      <th>3</th>\n",
       "      <td>2127</td>\n",
       "    </tr>\n",
       "    <tr>\n",
       "      <th>4</th>\n",
       "      <td>2138</td>\n",
       "    </tr>\n",
       "    <tr>\n",
       "      <th>...</th>\n",
       "      <td>...</td>\n",
       "    </tr>\n",
       "    <tr>\n",
       "      <th>151</th>\n",
       "      <td>7970</td>\n",
       "    </tr>\n",
       "    <tr>\n",
       "      <th>152</th>\n",
       "      <td>7976</td>\n",
       "    </tr>\n",
       "    <tr>\n",
       "      <th>153</th>\n",
       "      <td>7988</td>\n",
       "    </tr>\n",
       "    <tr>\n",
       "      <th>154</th>\n",
       "      <td>8012</td>\n",
       "    </tr>\n",
       "    <tr>\n",
       "      <th>155</th>\n",
       "      <td>8022</td>\n",
       "    </tr>\n",
       "  </tbody>\n",
       "</table>\n",
       "<p>156 rows × 1 columns</p>\n",
       "</div>"
      ],
      "text/plain": [
       "     Time\n",
       "0     346\n",
       "1     737\n",
       "2    2115\n",
       "3    2127\n",
       "4    2138\n",
       "..    ...\n",
       "151  7970\n",
       "152  7976\n",
       "153  7988\n",
       "154  8012\n",
       "155  8022\n",
       "\n",
       "[156 rows x 1 columns]"
      ]
     },
     "execution_count": 10,
     "metadata": {},
     "output_type": "execute_result"
    }
   ],
   "source": [
    "Sprint = []\n",
    "for i in range(1,len(df_test['Action']),1):  #stappen van 2 \n",
    "    if df_test.index[i]-df_test.index[i-1] > 3:\n",
    "        Sprint.append(df_test.index[i-1])\n",
    "        \n",
    "Sprint = pd.DataFrame(Sprint,columns=['Time'])\n",
    "Sprint"
   ]
  },
  {
   "cell_type": "code",
   "execution_count": 11,
   "id": "3a60c26f",
   "metadata": {},
   "outputs": [],
   "source": [
    "Sprint.to_csv('matrix_Player_' + str(Player) + '_game_' + str(Game) + '_FoundSprints.csv')"
   ]
  },
  {
   "cell_type": "code",
   "execution_count": null,
   "id": "20783d77",
   "metadata": {},
   "outputs": [],
   "source": []
  }
 ],
 "metadata": {
  "kernelspec": {
   "display_name": "Python 3 (ipykernel)",
   "language": "python",
   "name": "python3"
  },
  "language_info": {
   "codemirror_mode": {
    "name": "ipython",
    "version": 3
   },
   "file_extension": ".py",
   "mimetype": "text/x-python",
   "name": "python",
   "nbconvert_exporter": "python",
   "pygments_lexer": "ipython3",
   "version": "3.8.8"
  }
 },
 "nbformat": 4,
 "nbformat_minor": 5
}
